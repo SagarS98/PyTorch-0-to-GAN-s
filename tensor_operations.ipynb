{
 "cells": [
  {
   "cell_type": "markdown",
   "metadata": {
    "id": "8QHXEtZv23Bf"
   },
   "source": [
    "# Torch Functions\n",
    "\n",
    "An short introduction about PyTorch and about the chosen functions. \n",
    "\n",
    "- torch.arange()\n",
    "- torch.hstack()\n",
    "- torch.linspace()\n",
    "- torch.transpose()\n",
    "- torch.inverse()\n",
    "\n",
    "Before we begin, let's install and import PyTorch"
   ]
  },
  {
   "cell_type": "code",
   "execution_count": null,
   "metadata": {
    "id": "jvTx_JzC23Bf"
   },
   "outputs": [],
   "source": [
    "# Uncomment and run the appropriate command for your operating system, if required\n",
    "\n",
    "# Linux / Binder\n",
    "# !pip install numpy torch==1.7.0+cpu torchvision==0.8.1+cpu torchaudio==0.7.0 -f https://download.pytorch.org/whl/torch_stable.html\n",
    "\n",
    "# Windows\n",
    "# !pip install numpy torch==1.7.0+cpu torchvision==0.8.1+cpu torchaudio==0.7.0 -f https://download.pytorch.org/whl/torch_stable.html\n",
    "\n",
    "# MacOS\n",
    "# !pip install numpy torch torchvision torchaudio"
   ]
  },
  {
   "cell_type": "code",
   "execution_count": null,
   "metadata": {
    "id": "BovcldLA23Bf"
   },
   "outputs": [],
   "source": [
    "# Import torch and other required modules\n",
    "import torch"
   ]
  },
  {
   "cell_type": "markdown",
   "metadata": {
    "id": "6laCJN1923Bf"
   },
   "source": [
    "# Function 1 - torch.arange()\n",
    "\n",
    "Function returns a 1-D tensor of size [end-start / step], with values from the interval [start,end )  taken with common difference step beginning from start   \n",
    "\n"
   ]
  },
  {
   "cell_type": "code",
   "execution_count": null,
   "metadata": {
    "colab": {
     "base_uri": "https://localhost:8080/"
    },
    "id": "fYjFO1RA23Bf",
    "outputId": "d49e2bdb-b6c9-46fc-cf41-5d2d3fe449ca"
   },
   "outputs": [
    {
     "name": "stdout",
     "output_type": "stream",
     "text": [
      "tensor([0, 1, 2, 3, 4, 5])\n",
      "torch.Size([6])\n"
     ]
    }
   ],
   "source": [
    "# Working Example\n",
    "a = torch.arange(6)\n",
    "\n",
    "print(a)\n",
    "print(a.shape)"
   ]
  },
  {
   "cell_type": "markdown",
   "metadata": {
    "id": "0rfgL7Mx23Bh"
   },
   "source": [
    "Code takes 6 as an input returns a 1-D tensor of size [6] with ouputs ranging from 0 upto 6 ,exclusive of 6\n"
   ]
  },
  {
   "cell_type": "code",
   "execution_count": null,
   "metadata": {
    "colab": {
     "base_uri": "https://localhost:8080/"
    },
    "id": "ClA2ixME23Bh",
    "outputId": "fef478cc-6724-4197-fe2c-e88a69b0644c"
   },
   "outputs": [
    {
     "name": "stdout",
     "output_type": "stream",
     "text": [
      "tensor([1, 3, 5, 7, 9])\n",
      "torch.Size([5])\n"
     ]
    }
   ],
   "source": [
    "# Working Example\n",
    "b = torch.arange(1,10,2)\n",
    "print(b)\n",
    "print(b.shape)"
   ]
  },
  {
   "cell_type": "markdown",
   "metadata": {
    "id": "ti6tn-HP23Bh"
   },
   "source": [
    "## Arguments\n",
    "\n",
    "  * 1) start - 1 , lower bound\n",
    "  * 2) end - 10 , upper bound\n",
    "  * 3) step-size - 2, increment size\n",
    "\n",
    "These specific set of inputs returns a 1-D tensor of size [5] with outputs ranging form 1 upto 10 , not including 10 \n"
   ]
  },
  {
   "cell_type": "code",
   "execution_count": null,
   "metadata": {
    "colab": {
     "base_uri": "https://localhost:8080/",
     "height": 202
    },
    "id": "k47NSX7Q23Bh",
    "outputId": "5d045d42-29eb-4a2a-d2a4-539080e6fc1f"
   },
   "outputs": [
    {
     "ename": "RuntimeError",
     "evalue": "ignored",
     "output_type": "error",
     "traceback": [
      "\u001b[0;31m---------------------------------------------------------------------------\u001b[0m",
      "\u001b[0;31mRuntimeError\u001b[0m                              Traceback (most recent call last)",
      "\u001b[0;32m<ipython-input-5-25bf38032d5e>\u001b[0m in \u001b[0;36m<module>\u001b[0;34m()\u001b[0m\n\u001b[1;32m      1\u001b[0m \u001b[0;31m# Example 3 - breaking (to illustrate when it breaks)\u001b[0m\u001b[0;34m\u001b[0m\u001b[0;34m\u001b[0m\u001b[0;34m\u001b[0m\u001b[0m\n\u001b[0;32m----> 2\u001b[0;31m \u001b[0mc\u001b[0m \u001b[0;34m=\u001b[0m \u001b[0mtorch\u001b[0m\u001b[0;34m.\u001b[0m\u001b[0marange\u001b[0m\u001b[0;34m(\u001b[0m\u001b[0;36m1\u001b[0m\u001b[0;34m,\u001b[0m\u001b[0;36m10\u001b[0m\u001b[0;34m,\u001b[0m\u001b[0;34m-\u001b[0m\u001b[0;36m1\u001b[0m\u001b[0;34m)\u001b[0m\u001b[0;34m\u001b[0m\u001b[0;34m\u001b[0m\u001b[0m\n\u001b[0m\u001b[1;32m      3\u001b[0m \u001b[0mprint\u001b[0m\u001b[0;34m(\u001b[0m\u001b[0mc\u001b[0m\u001b[0;34m)\u001b[0m\u001b[0;34m\u001b[0m\u001b[0;34m\u001b[0m\u001b[0m\n",
      "\u001b[0;31mRuntimeError\u001b[0m: upper bound and larger bound inconsistent with step sign"
     ]
    }
   ],
   "source": [
    "# Example 3 - breaking (to illustrate when it breaks)\n",
    "c = torch.arange(1,10,-1)\n",
    "print(c)"
   ]
  },
  {
   "cell_type": "markdown",
   "metadata": {
    "id": "_FJpRBRu23Bh"
   },
   "source": [
    "the function's lower bound is 1 and the upper bound is again set to 10 but with an increment of -1 , the operation would break down ."
   ]
  },
  {
   "cell_type": "markdown",
   "metadata": {
    "id": "H1kgzBsn23Bh"
   },
   "source": [
    "Whenever you need to create a 1-D tensor for a specific range of values , torch.arange() could prove out to be handy and well quick too.\n"
   ]
  },
  {
   "cell_type": "markdown",
   "metadata": {
    "id": "JemT9Kvr23Bh"
   },
   "source": [
    "## Function 2 - torch.linspace()\n",
    "\n",
    "**torch.linspace()** Return set of samples with in a given interval. \n",
    "\n",
    "**torch.linspace()** allows you to define how many values you get including the specified min and max value.\n",
    "\n",
    "\n"
   ]
  },
  {
   "cell_type": "code",
   "execution_count": null,
   "metadata": {
    "colab": {
     "base_uri": "https://localhost:8080/"
    },
    "id": "aqmx0jBo23Bh",
    "outputId": "2fae0241-77ec-425e-ce03-76397ea7fc3d"
   },
   "outputs": [
    {
     "data": {
      "text/plain": [
       "tensor([ 0.0000,  0.1010,  0.2020,  0.3030,  0.4040,  0.5051,  0.6061,  0.7071,\n",
       "         0.8081,  0.9091,  1.0101,  1.1111,  1.2121,  1.3131,  1.4141,  1.5152,\n",
       "         1.6162,  1.7172,  1.8182,  1.9192,  2.0202,  2.1212,  2.2222,  2.3232,\n",
       "         2.4242,  2.5253,  2.6263,  2.7273,  2.8283,  2.9293,  3.0303,  3.1313,\n",
       "         3.2323,  3.3333,  3.4343,  3.5354,  3.6364,  3.7374,  3.8384,  3.9394,\n",
       "         4.0404,  4.1414,  4.2424,  4.3434,  4.4444,  4.5455,  4.6465,  4.7475,\n",
       "         4.8485,  4.9495,  5.0505,  5.1515,  5.2525,  5.3535,  5.4545,  5.5556,\n",
       "         5.6566,  5.7576,  5.8586,  5.9596,  6.0606,  6.1616,  6.2626,  6.3636,\n",
       "         6.4646,  6.5657,  6.6667,  6.7677,  6.8687,  6.9697,  7.0707,  7.1717,\n",
       "         7.2727,  7.3737,  7.4747,  7.5758,  7.6768,  7.7778,  7.8788,  7.9798,\n",
       "         8.0808,  8.1818,  8.2828,  8.3838,  8.4848,  8.5859,  8.6869,  8.7879,\n",
       "         8.8889,  8.9899,  9.0909,  9.1919,  9.2929,  9.3939,  9.4950,  9.5960,\n",
       "         9.6970,  9.7980,  9.8990, 10.0000])"
      ]
     },
     "execution_count": 15,
     "metadata": {
      "tags": []
     },
     "output_type": "execute_result"
    }
   ],
   "source": [
    "# Example 1 - working\n",
    "torch.linspace(0,10)"
   ]
  },
  {
   "cell_type": "markdown",
   "metadata": {
    "id": "BUo0itTm23Bh"
   },
   "source": [
    "returns 100 evenly spaced out values within the interval [1,10]"
   ]
  },
  {
   "cell_type": "code",
   "execution_count": null,
   "metadata": {
    "colab": {
     "base_uri": "https://localhost:8080/"
    },
    "id": "cyy9Ej9Z23Bh",
    "outputId": "49d5d713-125c-4092-bb97-9b62dcb65b53"
   },
   "outputs": [
    {
     "data": {
      "text/plain": [
       "tensor([ 0.0000,  2.5000,  5.0000,  7.5000, 10.0000])"
      ]
     },
     "execution_count": 16,
     "metadata": {
      "tags": []
     },
     "output_type": "execute_result"
    }
   ],
   "source": [
    "# Example 2 - working\n",
    "\n",
    "torch.linspace(0,10,5)"
   ]
  },
  {
   "cell_type": "markdown",
   "metadata": {
    "id": "UYf-DUdt23Bh"
   },
   "source": [
    "returns 5 evenly spaced values in the interval [0,10] including the max value(upper bound)"
   ]
  },
  {
   "cell_type": "code",
   "execution_count": null,
   "metadata": {
    "colab": {
     "base_uri": "https://localhost:8080/",
     "height": 185
    },
    "id": "ju_Mp3H-23Bh",
    "outputId": "ef36272a-7393-43ab-a7d6-91e5b2257c4c"
   },
   "outputs": [
    {
     "ename": "RuntimeError",
     "evalue": "ignored",
     "output_type": "error",
     "traceback": [
      "\u001b[0;31m---------------------------------------------------------------------------\u001b[0m",
      "\u001b[0;31mRuntimeError\u001b[0m                              Traceback (most recent call last)",
      "\u001b[0;32m<ipython-input-23-c66a17260e90>\u001b[0m in \u001b[0;36m<module>\u001b[0;34m()\u001b[0m\n\u001b[1;32m      1\u001b[0m \u001b[0;31m# Example 3 - breaking (to illustrate when it breaks)\u001b[0m\u001b[0;34m\u001b[0m\u001b[0;34m\u001b[0m\u001b[0;34m\u001b[0m\u001b[0m\n\u001b[0;32m----> 2\u001b[0;31m \u001b[0mtorch\u001b[0m\u001b[0;34m.\u001b[0m\u001b[0mlinspace\u001b[0m\u001b[0;34m(\u001b[0m\u001b[0;36m20\u001b[0m\u001b[0;34m,\u001b[0m\u001b[0;36m10\u001b[0m\u001b[0;34m,\u001b[0m\u001b[0;34m-\u001b[0m\u001b[0;36m1\u001b[0m\u001b[0;34m)\u001b[0m\u001b[0;34m\u001b[0m\u001b[0;34m\u001b[0m\u001b[0m\n\u001b[0m",
      "\u001b[0;31mRuntimeError\u001b[0m: number of steps must be non-negative"
     ]
    }
   ],
   "source": [
    "# Example 3 - breaking (to illustrate when it breaks)\n",
    "torch.linspace(20,10,-1)"
   ]
  },
  {
   "cell_type": "markdown",
   "metadata": {
    "id": "Eei6SEUK23Bh"
   },
   "source": [
    "The function would only break down if the step size is negative thats the only drawback i could find with the function"
   ]
  },
  {
   "cell_type": "markdown",
   "metadata": {
    "id": "EJfy9Bsn23Bh"
   },
   "source": [
    "Moreover i wanted to put this function here just to showcase the difference between the **torch.arange()** and **torch.linspace()** , the most notable difference among the both are\n",
    "\n",
    "* torch.arange() doesnt't include the upper bound whereas torch.linspace() does\n",
    "\n",
    "* torch.linspace() would return evenly spaced numbers **over** a specified   interval whereas torch.arange() would return evenly spaced values **within** a given interval\n"
   ]
  },
  {
   "cell_type": "markdown",
   "metadata": {
    "id": "w7a01BHq23Bi"
   },
   "source": [
    "## Function 3 - torch.transpose()\n",
    "\n",
    "Returns a tensor that is a transposed version of input. The given dimensions dim0 and dim1 are swapped.\n",
    "\n",
    "The resulting out tensor shares it’s underlying storage with the input tensor, so changing the content of one would change the content of the other."
   ]
  },
  {
   "cell_type": "code",
   "execution_count": null,
   "metadata": {
    "colab": {
     "base_uri": "https://localhost:8080/"
    },
    "id": "41pa--su23Bi",
    "outputId": "13ea77b7-397c-4c2d-85a0-71aca489ce06"
   },
   "outputs": [
    {
     "data": {
      "text/plain": [
       "tensor([[ 1.6536, -1.3462,  1.1331],\n",
       "        [ 1.0278,  2.1670,  0.3751]])"
      ]
     },
     "execution_count": 32,
     "metadata": {
      "tags": []
     },
     "output_type": "execute_result"
    }
   ],
   "source": [
    "# Example 1 - working\n",
    "x = torch.randn(2,3)\n",
    "x\n",
    "\n"
   ]
  },
  {
   "cell_type": "code",
   "execution_count": null,
   "metadata": {
    "colab": {
     "base_uri": "https://localhost:8080/"
    },
    "id": "F42sM_RpB7k6",
    "outputId": "06ac20fd-433e-4e00-b2e3-71edc47b3ee1"
   },
   "outputs": [
    {
     "data": {
      "text/plain": [
       "tensor([[ 1.6536,  1.0278],\n",
       "        [-1.3462,  2.1670],\n",
       "        [ 1.1331,  0.3751]])"
      ]
     },
     "execution_count": 33,
     "metadata": {
      "tags": []
     },
     "output_type": "execute_result"
    }
   ],
   "source": [
    "torch.transpose(x,0,1)"
   ]
  },
  {
   "cell_type": "markdown",
   "metadata": {
    "id": "5z3MO_9W23Bi"
   },
   "source": [
    "Transpose is a very handy and frequently used tensor function , here in the above example it shows how you could transpose a 2x3 matrix into a 3x2 matrix or tensor to be very precise."
   ]
  },
  {
   "cell_type": "code",
   "execution_count": null,
   "metadata": {
    "colab": {
     "base_uri": "https://localhost:8080/"
    },
    "id": "6AEa2wRo23Bi",
    "outputId": "49e5450c-70d1-4ee8-ffc5-ed33fe9a4ef7"
   },
   "outputs": [
    {
     "data": {
      "text/plain": [
       "tensor([[ 1.4113,  0.7446, -0.6192,  1.7490],\n",
       "        [ 1.2260,  0.6563, -0.9258,  0.7746],\n",
       "        [-0.2010, -0.5178,  1.0285,  0.6858]])"
      ]
     },
     "execution_count": 34,
     "metadata": {
      "tags": []
     },
     "output_type": "execute_result"
    }
   ],
   "source": [
    "# Example 2 - working\n",
    "\n",
    "y = torch.randn(3,4)\n",
    "y"
   ]
  },
  {
   "cell_type": "code",
   "execution_count": null,
   "metadata": {
    "colab": {
     "base_uri": "https://localhost:8080/"
    },
    "id": "N8-sepmjCOR2",
    "outputId": "a5bcb537-9529-4781-f6bb-0925b195f0e0"
   },
   "outputs": [
    {
     "data": {
      "text/plain": [
       "tensor([[ 1.4113,  1.2260, -0.2010],\n",
       "        [ 0.7446,  0.6563, -0.5178],\n",
       "        [-0.6192, -0.9258,  1.0285],\n",
       "        [ 1.7490,  0.7746,  0.6858]])"
      ]
     },
     "execution_count": 37,
     "metadata": {
      "tags": []
     },
     "output_type": "execute_result"
    }
   ],
   "source": [
    "torch.transpose(y,-2,1)"
   ]
  },
  {
   "cell_type": "markdown",
   "metadata": {
    "id": "AfS_-GlO23Bi"
   },
   "source": [
    "the above code transforms a 3x4 matrix into a 4x3 matrix ."
   ]
  },
  {
   "cell_type": "code",
   "execution_count": null,
   "metadata": {
    "colab": {
     "base_uri": "https://localhost:8080/",
     "height": 185
    },
    "id": "gWjgTksx23Bi",
    "outputId": "c78211e8-62c6-40a8-9c54-25f026500ecc"
   },
   "outputs": [
    {
     "ename": "IndexError",
     "evalue": "ignored",
     "output_type": "error",
     "traceback": [
      "\u001b[0;31m---------------------------------------------------------------------------\u001b[0m",
      "\u001b[0;31mIndexError\u001b[0m                                Traceback (most recent call last)",
      "\u001b[0;32m<ipython-input-38-6be9b3c50438>\u001b[0m in \u001b[0;36m<module>\u001b[0;34m()\u001b[0m\n\u001b[1;32m      1\u001b[0m \u001b[0;31m# Example 3 - breaking (to illustrate when it breaks)\u001b[0m\u001b[0;34m\u001b[0m\u001b[0;34m\u001b[0m\u001b[0;34m\u001b[0m\u001b[0m\n\u001b[0;32m----> 2\u001b[0;31m \u001b[0mtorch\u001b[0m\u001b[0;34m.\u001b[0m\u001b[0mtranspose\u001b[0m\u001b[0;34m(\u001b[0m\u001b[0my\u001b[0m\u001b[0;34m,\u001b[0m\u001b[0;36m1\u001b[0m\u001b[0;34m,\u001b[0m\u001b[0;36m4\u001b[0m\u001b[0;34m)\u001b[0m\u001b[0;34m\u001b[0m\u001b[0;34m\u001b[0m\u001b[0m\n\u001b[0m",
      "\u001b[0;31mIndexError\u001b[0m: Dimension out of range (expected to be in range of [-2, 1], but got 4)"
     ]
    }
   ],
   "source": [
    "# Example 3 - breaking (to illustrate when it breaks)\n",
    "torch.transpose(y,1,4)"
   ]
  },
  {
   "cell_type": "markdown",
   "metadata": {
    "id": "JSfOp-FC23Bi"
   },
   "source": [
    "The above code would break down if the dimension input to the function is out of bounds.\n"
   ]
  },
  {
   "cell_type": "markdown",
   "metadata": {
    "id": "Qjjjo_U_23Bi"
   },
   "source": [
    "torch.transpose is a useful function and one would come across it more often than any other function except pd.read_csv() haha .\n"
   ]
  },
  {
   "cell_type": "markdown",
   "metadata": {
    "id": "oP0jiDxC23Bi"
   },
   "source": [
    "## Function 4 - torch.hstack()\n",
    "\n",
    "Stack tensors in sequence horizontally (column wise).\n",
    "\n",
    "This is equivalent to concatenation along the first axis for 1-D tensors, and along the second axis for all other tensors."
   ]
  },
  {
   "cell_type": "code",
   "execution_count": null,
   "metadata": {
    "id": "UE28_ErW23Bj"
   },
   "outputs": [],
   "source": [
    "# Example 1 - working\n",
    "a = torch.arange(1,6)\n",
    "b = torch.linspace(1,5,5)"
   ]
  },
  {
   "cell_type": "code",
   "execution_count": null,
   "metadata": {
    "colab": {
     "base_uri": "https://localhost:8080/"
    },
    "id": "HrcNaLn4Dnx3",
    "outputId": "6b38e5a7-5ae5-46e6-8018-adb9d4308e69"
   },
   "outputs": [
    {
     "name": "stdout",
     "output_type": "stream",
     "text": [
      "tensor([1., 2., 3., 4., 5., 1., 2., 3., 4., 5.])\n"
     ]
    }
   ],
   "source": [
    "c = torch.hstack((a,b))\n",
    "print(c)"
   ]
  },
  {
   "cell_type": "markdown",
   "metadata": {
    "id": "356lvxp023Bj"
   },
   "source": [
    "The above code demonstrates how you could use both arange and linspace with a little manipulation to create the same tensors and then horizontally stack them. "
   ]
  },
  {
   "cell_type": "code",
   "execution_count": null,
   "metadata": {
    "colab": {
     "base_uri": "https://localhost:8080/"
    },
    "id": "J8eCFI-O23Bj",
    "outputId": "20f7f95d-9fc4-4580-f97d-8765d844fd90"
   },
   "outputs": [
    {
     "data": {
      "text/plain": [
       "tensor([[1, 4],\n",
       "        [2, 5],\n",
       "        [3, 6]])"
      ]
     },
     "execution_count": 52,
     "metadata": {
      "tags": []
     },
     "output_type": "execute_result"
    }
   ],
   "source": [
    "# Example 2 - working\n",
    "c = torch.tensor([[1],[2],[3]])\n",
    "d = torch.tensor([[4],[5],[6]])\n",
    "torch.hstack((c,d))"
   ]
  },
  {
   "cell_type": "markdown",
   "metadata": {
    "id": "FP_VOvFQ23Bj"
   },
   "source": [
    "Stacks two 3x1 tensor to generate a 3x2 tensor ."
   ]
  },
  {
   "cell_type": "code",
   "execution_count": null,
   "metadata": {
    "colab": {
     "base_uri": "https://localhost:8080/",
     "height": 202
    },
    "id": "Jl2a6wAi23Bj",
    "outputId": "74ec0eb5-e9a4-42d8-9acb-298bf0319c8c"
   },
   "outputs": [
    {
     "ename": "RuntimeError",
     "evalue": "ignored",
     "output_type": "error",
     "traceback": [
      "\u001b[0;31m---------------------------------------------------------------------------\u001b[0m",
      "\u001b[0;31mRuntimeError\u001b[0m                              Traceback (most recent call last)",
      "\u001b[0;32m<ipython-input-54-a55437e2ebed>\u001b[0m in \u001b[0;36m<module>\u001b[0;34m()\u001b[0m\n\u001b[1;32m      2\u001b[0m \u001b[0me\u001b[0m \u001b[0;34m=\u001b[0m \u001b[0mtorch\u001b[0m\u001b[0;34m.\u001b[0m\u001b[0mtensor\u001b[0m\u001b[0;34m(\u001b[0m\u001b[0;34m[\u001b[0m\u001b[0;34m[\u001b[0m\u001b[0;36m1\u001b[0m\u001b[0;34m]\u001b[0m\u001b[0;34m,\u001b[0m\u001b[0;34m[\u001b[0m\u001b[0;36m2\u001b[0m\u001b[0;34m]\u001b[0m\u001b[0;34m,\u001b[0m\u001b[0;34m[\u001b[0m\u001b[0;36m3\u001b[0m\u001b[0;34m]\u001b[0m\u001b[0;34m]\u001b[0m\u001b[0;34m)\u001b[0m\u001b[0;34m\u001b[0m\u001b[0;34m\u001b[0m\u001b[0m\n\u001b[1;32m      3\u001b[0m \u001b[0mf\u001b[0m \u001b[0;34m=\u001b[0m \u001b[0mtorch\u001b[0m\u001b[0;34m.\u001b[0m\u001b[0mtensor\u001b[0m\u001b[0;34m(\u001b[0m\u001b[0;34m[\u001b[0m\u001b[0;34m[\u001b[0m\u001b[0;36m4\u001b[0m\u001b[0;34m]\u001b[0m\u001b[0;34m]\u001b[0m\u001b[0;34m)\u001b[0m\u001b[0;34m\u001b[0m\u001b[0;34m\u001b[0m\u001b[0m\n\u001b[0;32m----> 4\u001b[0;31m \u001b[0mtorch\u001b[0m\u001b[0;34m.\u001b[0m\u001b[0mhstack\u001b[0m\u001b[0;34m(\u001b[0m\u001b[0;34m(\u001b[0m\u001b[0me\u001b[0m\u001b[0;34m,\u001b[0m\u001b[0mf\u001b[0m\u001b[0;34m)\u001b[0m\u001b[0;34m)\u001b[0m\u001b[0;34m\u001b[0m\u001b[0;34m\u001b[0m\u001b[0m\n\u001b[0m",
      "\u001b[0;31mRuntimeError\u001b[0m: Sizes of tensors must match except in dimension 1. Got 3 and 1 in dimension 0 (The offending index is 1)"
     ]
    }
   ],
   "source": [
    "# Example 3 - breaking (to illustrate when it breaks)\n",
    "e = torch.tensor([[1],[2],[3]])\n",
    "f = torch.tensor([[4]])\n",
    "torch.hstack((e,f))"
   ]
  },
  {
   "cell_type": "markdown",
   "metadata": {
    "id": "TBxqrky923Bj"
   },
   "source": [
    "the function would break down with the size of tensor involved in the operation doesn't match."
   ]
  },
  {
   "cell_type": "markdown",
   "metadata": {},
   "source": [
    "# Function 5 - torch.inverse()\n",
    "\n",
    "Takes the inverse of the square matrix input. input can be batches of 2D square tensors, in which case this function would return a tensor composed of individual inverses."
   ]
  },
  {
   "cell_type": "code",
   "execution_count": null,
   "metadata": {
    "colab": {
     "base_uri": "https://localhost:8080/"
    },
    "id": "9NFw2zx423Bj",
    "outputId": "93fc1322-7a19-403c-fe8d-6f0756a1894f"
   },
   "outputs": [
    {
     "data": {
      "text/plain": [
       "tensor([[0.4206, 0.3497],\n",
       "        [0.4844, 0.9677]])"
      ]
     },
     "execution_count": 56,
     "metadata": {
      "tags": []
     },
     "output_type": "execute_result"
    }
   ],
   "source": [
    "# Example 1 - working\n",
    "x = torch.rand(2, 2)\n",
    "x"
   ]
  },
  {
   "cell_type": "code",
   "execution_count": null,
   "metadata": {
    "colab": {
     "base_uri": "https://localhost:8080/"
    },
    "id": "Hg8DjwabF-Mo",
    "outputId": "93c981de-aafe-4423-87dd-9842452ba284"
   },
   "outputs": [
    {
     "data": {
      "text/plain": [
       "tensor([[ 4.0731, -1.4720],\n",
       "        [-2.0387,  1.7702]])"
      ]
     },
     "execution_count": 57,
     "metadata": {
      "tags": []
     },
     "output_type": "execute_result"
    }
   ],
   "source": [
    "torch.inverse(x)"
   ]
  },
  {
   "cell_type": "markdown",
   "metadata": {
    "id": "lVenYNar23Bj"
   },
   "source": [
    "The code takes in a random values drawn tensor from the interval [2,2] and performs the inverse operation "
   ]
  },
  {
   "cell_type": "code",
   "execution_count": null,
   "metadata": {
    "colab": {
     "base_uri": "https://localhost:8080/"
    },
    "id": "pMhx-8f823Bj",
    "outputId": "a0c5929d-0daf-4cfe-96a9-1db6e87abb62"
   },
   "outputs": [
    {
     "data": {
      "text/plain": [
       "tensor([[0.7479, 0.8705],\n",
       "        [0.3385, 0.1068]])"
      ]
     },
     "execution_count": 63,
     "metadata": {
      "tags": []
     },
     "output_type": "execute_result"
    }
   ],
   "source": [
    "# Example 2 - working\n",
    "b = torch.rand(4).reshape(2,2)\n",
    "b"
   ]
  },
  {
   "cell_type": "code",
   "execution_count": null,
   "metadata": {
    "colab": {
     "base_uri": "https://localhost:8080/"
    },
    "id": "XLL79J_oGu2f",
    "outputId": "4b39d01f-e181-45d9-b42c-e1fe42dd3a49"
   },
   "outputs": [
    {
     "data": {
      "text/plain": [
       "tensor([[-0.4974,  4.0531],\n",
       "        [ 1.5761, -3.4824]])"
      ]
     },
     "execution_count": 64,
     "metadata": {
      "tags": []
     },
     "output_type": "execute_result"
    }
   ],
   "source": [
    "torch.inverse(b)"
   ]
  },
  {
   "cell_type": "markdown",
   "metadata": {
    "id": "Zl-FapRd23Bj"
   },
   "source": [
    "takes in a 2x2 tensor of random values and perform the inverse operation."
   ]
  },
  {
   "cell_type": "code",
   "execution_count": null,
   "metadata": {
    "colab": {
     "base_uri": "https://localhost:8080/"
    },
    "id": "BUfcDxQb23Bj",
    "outputId": "aa99ac2c-a502-4c71-c3b5-5cc6ef3964dc"
   },
   "outputs": [
    {
     "data": {
      "text/plain": [
       "tensor([[0.9503, 0.4184],\n",
       "        [0.4110, 0.2054],\n",
       "        [0.5771, 0.2513]])"
      ]
     },
     "execution_count": 66,
     "metadata": {
      "tags": []
     },
     "output_type": "execute_result"
    }
   ],
   "source": [
    "# Example 3 - breaking (to illustrate when it breaks)\n",
    "y = torch.rand(6).reshape(3,2)\n",
    "y"
   ]
  },
  {
   "cell_type": "code",
   "execution_count": null,
   "metadata": {
    "colab": {
     "base_uri": "https://localhost:8080/",
     "height": 185
    },
    "id": "U2G3wYYyG3KG",
    "outputId": "ca36c195-a250-45b7-c999-57860a5e7a33"
   },
   "outputs": [
    {
     "ename": "RuntimeError",
     "evalue": "ignored",
     "output_type": "error",
     "traceback": [
      "\u001b[0;31m---------------------------------------------------------------------------\u001b[0m",
      "\u001b[0;31mRuntimeError\u001b[0m                              Traceback (most recent call last)",
      "\u001b[0;32m<ipython-input-65-a6ad06100b84>\u001b[0m in \u001b[0;36m<module>\u001b[0;34m()\u001b[0m\n\u001b[1;32m      1\u001b[0m \u001b[0;34m\u001b[0m\u001b[0m\n\u001b[0;32m----> 2\u001b[0;31m \u001b[0mtorch\u001b[0m\u001b[0;34m.\u001b[0m\u001b[0minverse\u001b[0m\u001b[0;34m(\u001b[0m\u001b[0my\u001b[0m\u001b[0;34m)\u001b[0m\u001b[0;34m\u001b[0m\u001b[0;34m\u001b[0m\u001b[0m\n\u001b[0m",
      "\u001b[0;31mRuntimeError\u001b[0m: A must be batches of square matrices, but they are 2 by 3 matrices"
     ]
    }
   ],
   "source": [
    "\n",
    "torch.inverse(y)"
   ]
  },
  {
   "cell_type": "markdown",
   "metadata": {
    "id": "5iFVJz9Q23Bj"
   },
   "source": [
    "torch.inverse() works only for square matrices and hence if the input matrix isn't a square matrix it would breakdown and throw a Runtime Error"
   ]
  },
  {
   "cell_type": "markdown",
   "metadata": {
    "id": "azEhaioj23Bj"
   },
   "source": [
    "The computation of the inverse of a matrix is ​​essential when dealing with linear algebraic computations."
   ]
  },
  {
   "cell_type": "markdown",
   "metadata": {
    "id": "japT-hG823Bj"
   },
   "source": [
    "## Conclusion\n",
    "\n",
    "In this not so short notebook we discussed some of the essential tensor operations with the help of PyTorch."
   ]
  },
  {
   "cell_type": "markdown",
   "metadata": {
    "id": "cPihD9Ro23Bj"
   },
   "source": [
    "## Reference Links\n",
    "Provide links to your references and other interesting articles about tensors\n",
    "* Official documentation for tensor operations: https://pytorch.org/docs/stable/torch.html\n",
    "* ..."
   ]
  }
 ],
 "metadata": {
  "colab": {
   "name": "01-tensor-operations.ipynb",
   "provenance": []
  },
  "kernelspec": {
   "display_name": "Python 3",
   "language": "python",
   "name": "python3"
  },
  "language_info": {
   "codemirror_mode": {
    "name": "ipython",
    "version": 3
   },
   "file_extension": ".py",
   "mimetype": "text/x-python",
   "name": "python",
   "nbconvert_exporter": "python",
   "pygments_lexer": "ipython3",
   "version": "3.7.6"
  }
 },
 "nbformat": 4,
 "nbformat_minor": 1
}
